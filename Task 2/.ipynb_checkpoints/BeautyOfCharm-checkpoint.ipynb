{
 "cells": [
  {
   "cell_type": "markdown",
   "id": "requested-wesley",
   "metadata": {},
   "source": [
    "# Web Interface for in-browser interactive averaging of physics results\n",
    "## Step 1: Look At Available Branching Functions To Visualize"
   ]
  },
  {
   "cell_type": "code",
   "execution_count": 9,
   "id": "incredible-numbers",
   "metadata": {},
   "outputs": [],
   "source": [
    "import ipywidgets as widgets\n",
    "import json\n",
    "import plotly.graph_objects as go\n",
    "\n",
    "from IPython.display import clear_output, display, Latex"
   ]
  },
  {
   "cell_type": "code",
   "execution_count": 10,
   "id": "adapted-toner",
   "metadata": {},
   "outputs": [],
   "source": [
    "file = open('gsoc_hflav.json','r')\n",
    "data = json.load(file)"
   ]
  },
  {
   "cell_type": "code",
   "execution_count": 11,
   "id": "sophisticated-psychology",
   "metadata": {},
   "outputs": [
    {
     "data": {
      "application/vnd.jupyter.widget-view+json": {
       "model_id": "4488c0c0300342cd98ef43fa3dd6dd36",
       "version_major": 2,
       "version_minor": 0
      },
      "text/plain": [
       "GridBox(children=(Label(value='1$$\\\\frac{{\\\\cal{B}} ( \\\\Lambda_b^{0} \\\\to D^{0} p K^{-} ) }{ {\\\\cal{B}} ( \\\\La…"
      ]
     },
     "metadata": {},
     "output_type": "display_data"
    }
   ],
   "source": [
    "items = [widgets.Label(str(i+1)+r\"$$\"+data[i]['latex']+\"$$\") for i in range(len(data))]\n",
    "widgets.GridBox(items, layout=widgets.Layout(grid_template_columns=\"repeat(5, 250px)\"))"
   ]
  },
  {
   "cell_type": "markdown",
   "id": "younger-anderson",
   "metadata": {},
   "source": [
    "## Step 2: Pick Your Desired Choice"
   ]
  },
  {
   "cell_type": "code",
   "execution_count": 12,
   "id": "broadband-convert",
   "metadata": {},
   "outputs": [],
   "source": [
    "out = widgets.Output()"
   ]
  },
  {
   "cell_type": "code",
   "execution_count": 13,
   "id": "fantastic-economics",
   "metadata": {},
   "outputs": [],
   "source": [
    "def checkie(change):\n",
    "    global status\n",
    "    status = [w1.value, w2.value, w3.value]\n",
    "    update_graph(None)"
   ]
  },
  {
   "cell_type": "code",
   "execution_count": 14,
   "id": "material-thursday",
   "metadata": {},
   "outputs": [],
   "source": [
    "w_var = ''\n",
    "status = [True]*4\n",
    "w1 = widgets.Checkbox(value=True, description='1', disabled=True, indent=False)\n",
    "w1.observe(checkie,names=\"value\")\n",
    "w2 = widgets.Checkbox(value=True, description='2', disabled=True, indent=False)\n",
    "w2.observe(checkie,names=\"value\")\n",
    "w3 = widgets.Checkbox(value=True, description='3', disabled=True, indent=False)\n",
    "w3.observe(checkie,names=\"value\")"
   ]
  },
  {
   "cell_type": "code",
   "execution_count": 15,
   "id": "unable-somerset",
   "metadata": {},
   "outputs": [],
   "source": [
    "def update_on_dropdown(change):\n",
    "    with out:\n",
    "        global w_var\n",
    "        w_var = widgets.Dropdown(options=[str(i+1) for i in range(len(data))],description='Choice:',disabled=False)\n",
    "        w_var.observe(update_graph, names=\"value\")"
   ]
  },
  {
   "cell_type": "code",
   "execution_count": 16,
   "id": "recorded-challenge",
   "metadata": {},
   "outputs": [],
   "source": [
    "def update_graph(change):\n",
    "    with out:\n",
    "        global w_var, status\n",
    "        fig = go.Figure()\n",
    "        fig.data = []\n",
    "        num = 0.000000001\n",
    "        den = 0.000000001\n",
    "        clear_output(wait=True)\n",
    "        \n",
    "        for i in range(len(data[int(w_var.value)-1]['measurements'])):\n",
    "            value = data[int(w_var.value)-1]['measurements'][i]['value']\n",
    "            error = data[int(w_var.value)-1]['measurements'][i]['error']\n",
    "            data_val = data[int(w_var.value)-1]\n",
    "            if status[i]:\n",
    "                fig.add_trace(go.Scatter(x=[value+error, value-error], y=[i,i], mode='lines', name=\"Range \"+str(i)))\n",
    "                fig.add_trace(go.Scatter(x=[value+error, value-error], y=[i,i], mode='markers', marker_size=20, name=\"Error \"+str(i)))\n",
    "                fig.add_trace(go.Scatter(x=[value], y=[i,i], mode='markers', marker_size=20, name='Value '+str(i)))\n",
    "                if error!=0:\n",
    "                    num+=value/error**2\n",
    "                    den+=1/error**2\n",
    "            \n",
    "            display(str(i+1)+\". val:\"+str(value)+\"  err:\"+str(error))\n",
    "        \n",
    "        if status.count(True)!=0:\n",
    "            fig.add_vline(x=num/den, line_width=3, line_color=\"green\")\n",
    "            fig.add_vrect(x0=num/den-data_val['error'], x1=num/den+data_val['error'], line_width=0, fillcolor=\"yellow\", opacity=0.2)\n",
    "            fig.update_xaxes(showgrid=False)\n",
    "            fig.update_yaxes(showgrid=False,zeroline=True, zerolinecolor='black', zerolinewidth=1,showticklabels=False, title=r\"$$\"+data[int(w_var.value)-1]['latex']+\"$$\")\n",
    "            fig.update_layout(height=450, plot_bgcolor='white')\n",
    "            fig.update_layout(title=data_val['name']+\" - \"+data_val['category'])\n",
    "            fig.show()\n",
    "        else:\n",
    "            display(\"Please select atleast one checkbox!\")\n",
    "            \n",
    "        w1.disabled = False\n",
    "        w2.disabled = False\n",
    "        w3.disabled = False"
   ]
  },
  {
   "cell_type": "code",
   "execution_count": 17,
   "id": "concrete-furniture",
   "metadata": {},
   "outputs": [
    {
     "data": {
      "application/vnd.jupyter.widget-view+json": {
       "model_id": "3c41f96fbbd24b15ad6025e243fec35d",
       "version_major": 2,
       "version_minor": 0
      },
      "text/plain": [
       "Dropdown(description='Choice:', options=('1', '2', '3', '4', '5', '6', '7', '8', '9', '10', '11', '12', '13', …"
      ]
     },
     "metadata": {},
     "output_type": "display_data"
    }
   ],
   "source": [
    "update_on_dropdown(None)\n",
    "display(w_var)"
   ]
  },
  {
   "cell_type": "markdown",
   "id": "loving-advancement",
   "metadata": {},
   "source": [
    "## Step 3: Pick Your Desired Measurements \n",
    "### Observe Changes & Dyanamic Average + Error Calculation!"
   ]
  },
  {
   "cell_type": "code",
   "execution_count": 18,
   "id": "compatible-prompt",
   "metadata": {},
   "outputs": [
    {
     "data": {
      "application/vnd.jupyter.widget-view+json": {
       "model_id": "681566e99a9f4c8ab9e682612ecfd0f8",
       "version_major": 2,
       "version_minor": 0
      },
      "text/plain": [
       "Checkbox(value=True, description='1', disabled=True, indent=False)"
      ]
     },
     "metadata": {},
     "output_type": "display_data"
    },
    {
     "data": {
      "application/vnd.jupyter.widget-view+json": {
       "model_id": "4495850156f845a78a4f7ae59a64559b",
       "version_major": 2,
       "version_minor": 0
      },
      "text/plain": [
       "Checkbox(value=True, description='2', disabled=True, indent=False)"
      ]
     },
     "metadata": {},
     "output_type": "display_data"
    },
    {
     "data": {
      "application/vnd.jupyter.widget-view+json": {
       "model_id": "c82b1214ce1b472e827053578c2c7864",
       "version_major": 2,
       "version_minor": 0
      },
      "text/plain": [
       "Checkbox(value=True, description='3', disabled=True, indent=False)"
      ]
     },
     "metadata": {},
     "output_type": "display_data"
    },
    {
     "data": {
      "application/vnd.jupyter.widget-view+json": {
       "model_id": "bff9d334da534a2dabfefd7d3e51f4c1",
       "version_major": 2,
       "version_minor": 0
      },
      "text/plain": [
       "Output()"
      ]
     },
     "metadata": {},
     "output_type": "display_data"
    }
   ],
   "source": [
    "display(w1,w2,w3)\n",
    "out"
   ]
  },
  {
   "cell_type": "code",
   "execution_count": null,
   "id": "neural-supervision",
   "metadata": {},
   "outputs": [],
   "source": []
  }
 ],
 "metadata": {
  "kernelspec": {
   "display_name": "Python 3",
   "language": "python",
   "name": "python3"
  },
  "language_info": {
   "codemirror_mode": {
    "name": "ipython",
    "version": 3
   },
   "file_extension": ".py",
   "mimetype": "text/x-python",
   "name": "python",
   "nbconvert_exporter": "python",
   "pygments_lexer": "ipython3",
   "version": "3.8.6"
  }
 },
 "nbformat": 4,
 "nbformat_minor": 5
}
